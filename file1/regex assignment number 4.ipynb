{
 "cells": [
  {
   "cell_type": "code",
   "execution_count": 1,
   "id": "3fc4a7a0",
   "metadata": {},
   "outputs": [],
   "source": [
    "#Q1. Python program to replace space, comma and dot with :"
   ]
  },
  {
   "cell_type": "code",
   "execution_count": 4,
   "id": "fd66a5ea",
   "metadata": {},
   "outputs": [
    {
     "name": "stdout",
     "output_type": "stream",
     "text": [
      "The world is huge.   \n",
      "The world is huge::\n"
     ]
    }
   ],
   "source": [
    "import re\n",
    "text=input()\n",
    "to_be_replaced = r'[ ,.] '\n",
    "replaced_text=re.sub(to_be_replaced,':', text)\n",
    "print(replaced_text)"
   ]
  },
  {
   "cell_type": "code",
   "execution_count": 6,
   "id": "8f50d576",
   "metadata": {},
   "outputs": [],
   "source": [
    "#Q2 Create dataframe using dictionary below and remove everything (comma, !, XXXX etc) from the columns except word. \n",
    "#Dictionary - {'SUMMARY':['hello, world!','XXXXX test','123four, five:; six...']}"
   ]
  },
  {
   "cell_type": "code",
   "execution_count": 7,
   "id": "fe7be2cf",
   "metadata": {},
   "outputs": [
    {
     "name": "stdout",
     "output_type": "stream",
     "text": [
      "        SUMMARY\n",
      "0   hello world\n",
      "1          test\n",
      "2  fourfive six\n"
     ]
    }
   ],
   "source": [
    "import pandas as pd\n",
    "import re\n",
    "\n",
    "data={'SUMMARY':['hello world!', 'XXXXX test', '123four,five:; six...']}\n",
    "df= pd.DataFrame(data)\n",
    "\n",
    "def ct(text):\n",
    "\ttext= re.sub(r'X{2,}','',text)\n",
    "\tresult=re.sub(r'[^a-zA-Z\\s]','',text)\n",
    "\treturn result\n",
    "\n",
    "df=df.assign(SUMMARY=df['SUMMARY'].map(lambda x:ct(x)))\n",
    "print(df)"
   ]
  },
  {
   "cell_type": "code",
   "execution_count": 8,
   "id": "dc0b221a",
   "metadata": {},
   "outputs": [],
   "source": [
    "#Q3 Create a function in python to find all words that are at least 4 characters long in a\n",
    "#string. The use of the re.compile() method is mandatory."
   ]
  },
  {
   "cell_type": "code",
   "execution_count": 9,
   "id": "6adde26d",
   "metadata": {},
   "outputs": [
    {
     "name": "stdout",
     "output_type": "stream",
     "text": [
      "India is a sub-continent in the Asian continent.\n",
      "['India', 'continent', 'Asian', 'continent']\n"
     ]
    }
   ],
   "source": [
    "import re\n",
    "text=input()\n",
    "pattern=re.compile (r'\\b\\w{4,}\\b')\n",
    "words=pattern.findall(text)\n",
    "print(words)"
   ]
  },
  {
   "cell_type": "code",
   "execution_count": 10,
   "id": "6eccecd9",
   "metadata": {},
   "outputs": [],
   "source": [
    "#Q4 Create a function in python to find all three, four, and five character words in a string.\n",
    "#The use of the re.compile() method is mandatory."
   ]
  },
  {
   "cell_type": "code",
   "execution_count": 11,
   "id": "bec374a9",
   "metadata": {},
   "outputs": [
    {
     "name": "stdout",
     "output_type": "stream",
     "text": [
      "The apple does not fall far from a tree or outside 1 kilometer from the tree\n",
      "['The', 'apple', 'does', 'not', 'fall', 'far', 'from', 'tree', 'from', 'the', 'tree']\n"
     ]
    }
   ],
   "source": [
    "import re\n",
    "text=input()\n",
    "pattern=re.compile(r'\\b\\w{3,5}\\b')\n",
    "words=pattern.findall(text)\n",
    "print(words)"
   ]
  },
  {
   "cell_type": "code",
   "execution_count": 1,
   "id": "8b8df205",
   "metadata": {},
   "outputs": [],
   "source": [
    "#Q5 Create a function in Python to remove the parenthesis in a list of strings. The use of the\n",
    "#re.compile() method is mandatory."
   ]
  },
  {
   "cell_type": "code",
   "execution_count": 2,
   "id": "11297f5a",
   "metadata": {},
   "outputs": [
    {
     "name": "stdout",
     "output_type": "stream",
     "text": [
      "Enter emails with comma as seperation:example.(com),ab.(com)\n",
      "['example.com,ab.com']\n"
     ]
    }
   ],
   "source": [
    "import re\n",
    "text=input(\"Enter emails with comma as seperation:\")\n",
    "pattern=re.compile(r'\\s*\\(\\s*|\\s*\\)\\s*')\n",
    "final_chars= [pattern.sub('',text)]\n",
    "print(final_chars)"
   ]
  },
  {
   "cell_type": "code",
   "execution_count": 3,
   "id": "0682669c",
   "metadata": {},
   "outputs": [],
   "source": [
    "#Q6 Write a python program to remove the parenthesis area from the text stored in the text\n",
    "#file using Regular Expression. Store given sample text in the text file and then to remove the parenthesis area from the text"
   ]
  },
  {
   "cell_type": "code",
   "execution_count": 6,
   "id": "6c9b952e",
   "metadata": {},
   "outputs": [
    {
     "name": "stdout",
     "output_type": "stream",
     "text": [
      "Enter text:ab.(com)\n",
      "['ab.']\n"
     ]
    }
   ],
   "source": [
    "import re\n",
    "text=input(\"Enter text:\")\n",
    "file1 = 'assignment question 6.txt'\n",
    "with open(file1, 'w') as file:\n",
    "    file.write(text)\n",
    "with open(file1, 'r') as file:\n",
    "    text = file.read()\n",
    "file.close()\n",
    "pattern=re.compile(r'\\([^)]*\\)')\n",
    "final_chars= [pattern.sub('',text)]\n",
    "print(final_chars)"
   ]
  },
  {
   "cell_type": "code",
   "execution_count": 7,
   "id": "f0f37490",
   "metadata": {},
   "outputs": [],
   "source": [
    "#Q7 Write a regular expression in Python to split a string into uppercase letters."
   ]
  },
  {
   "cell_type": "code",
   "execution_count": 8,
   "id": "81ea0ddd",
   "metadata": {},
   "outputs": [
    {
     "name": "stdout",
     "output_type": "stream",
     "text": [
      "ImportanceOfRegularExpressionsInPython\n",
      "Importance Of Regular Expressions In Python\n"
     ]
    }
   ],
   "source": [
    "import re\n",
    "text=input()\n",
    "new_text= re.findall(r'[A-Z][a-z]*', text)\n",
    "final = ' '.join(new_text)\n",
    "print(final)"
   ]
  },
  {
   "cell_type": "code",
   "execution_count": 9,
   "id": "5a4b2ca7",
   "metadata": {},
   "outputs": [],
   "source": [
    "#Q8 Create a function in python to insert spaces between words starting with numbers."
   ]
  },
  {
   "cell_type": "code",
   "execution_count": 10,
   "id": "644b0419",
   "metadata": {},
   "outputs": [
    {
     "name": "stdout",
     "output_type": "stream",
     "text": [
      "RegularExpression1IsAn2ImportantTopic3InPython\n",
      "RegularExpression 1IsAn 2ImportantTopic 3InPython\n"
     ]
    }
   ],
   "source": [
    "import re\n",
    "text=input()\n",
    "pattern = re.compile(r'([a-zA-Z]+)(\\d+)')\n",
    "final_text = pattern.sub(r'\\1 \\2', text)\n",
    "print(final_text)"
   ]
  },
  {
   "cell_type": "code",
   "execution_count": 11,
   "id": "fd3b5ca2",
   "metadata": {},
   "outputs": [],
   "source": [
    "#Q9 Create a function in python to insert spaces between words starting with capital letters\n",
    "#or with numbers."
   ]
  },
  {
   "cell_type": "code",
   "execution_count": 13,
   "id": "51fc4f3c",
   "metadata": {},
   "outputs": [
    {
     "name": "stdout",
     "output_type": "stream",
     "text": [
      "RegularExpression1IsAn2ImportantTopic3InPython\n",
      "RegularExpression 1 IsAn 2 ImportantTopic 3 InPython\n"
     ]
    }
   ],
   "source": [
    "import re\n",
    "text=input()\n",
    "pattern = re.compile(r'([a-zA-Z]+)(\\d+)')\n",
    "final_text = pattern.sub(r'\\1 \\2 ', text)\n",
    "print(final_text)"
   ]
  },
  {
   "cell_type": "code",
   "execution_count": 14,
   "id": "527f0903",
   "metadata": {},
   "outputs": [],
   "source": [
    "#Q10  Use the github link below to read the data and create a dataframe. After creating the\n",
    "#dataframe extract the first 6 letters of each country and store in the dataframe under a new column\n",
    "#called first_five_letters.\n",
    "#Github Linkhttps://raw.githubusercontent.com/dsrscientist/DSData/master/happiness_score_dataset.csv"
   ]
  },
  {
   "cell_type": "code",
   "execution_count": 15,
   "id": "e1011eb8",
   "metadata": {},
   "outputs": [
    {
     "name": "stdout",
     "output_type": "stream",
     "text": [
      "0      Switze\n",
      "1      Icelan\n",
      "2      Denmar\n",
      "3      Norway\n",
      "4      Canada\n",
      "        ...  \n",
      "153    Rwanda\n",
      "154     Benin\n",
      "155     Syria\n",
      "156    Burund\n",
      "157      Togo\n",
      "Name: first_five_letters, Length: 158, dtype: object\n"
     ]
    }
   ],
   "source": [
    "import pandas as pd\n",
    "link = \"https://raw.githubusercontent.com/dsrscientist/DSData/master/happiness_score_dataset.csv\"\n",
    "df = pd.read_csv(link)\n",
    "df['first_five_letters'] = df['Country'].str[:6]\n",
    "print(df['first_five_letters'])"
   ]
  },
  {
   "cell_type": "code",
   "execution_count": 1,
   "id": "f67e05eb",
   "metadata": {},
   "outputs": [],
   "source": [
    "#Q11 Write a Python program to match a string that contains only upper and lowercase\n",
    "#letters, numbers, and underscores."
   ]
  },
  {
   "cell_type": "code",
   "execution_count": 4,
   "id": "69a6235f",
   "metadata": {},
   "outputs": [
    {
     "name": "stdout",
     "output_type": "stream",
     "text": [
      "abC!_1\n",
      "abC!_1 is a match\n"
     ]
    }
   ],
   "source": [
    "import re\n",
    "text=input()\n",
    "pattern=re.compile(r'^(?=.*[a-z])(?=.*[A-Z])(?=.*\\d)(?=.*_).+$')\n",
    "if re.fullmatch(pattern,text):\n",
    "    print(f'{text} is a match')\n",
    "else:\n",
    "    print(f'{text} is not a match')\n",
    "    "
   ]
  },
  {
   "cell_type": "code",
   "execution_count": 5,
   "id": "7d87c03f",
   "metadata": {},
   "outputs": [],
   "source": [
    "#Q12 Write a Python program where a string will start with a specific number"
   ]
  },
  {
   "cell_type": "code",
   "execution_count": 6,
   "id": "5a28215e",
   "metadata": {},
   "outputs": [
    {
     "name": "stdout",
     "output_type": "stream",
     "text": [
      "Enter specific number1\n",
      "1asfdasf\n",
      "1asfdasf is a match\n"
     ]
    }
   ],
   "source": [
    "import re\n",
    "number=input(\"Enter specific number\")\n",
    "text=input()\n",
    "pattern = re.compile(r'^' + re.escape(str(number)))\n",
    "if re.match(pattern,text):\n",
    "    print(f'{text} is a match')\n",
    "else:\n",
    "    print(f'{text} is not a match')"
   ]
  },
  {
   "cell_type": "code",
   "execution_count": 7,
   "id": "561af0de",
   "metadata": {},
   "outputs": [],
   "source": [
    "#Q13 Write a Python program to remove leading zeros from an IP address"
   ]
  },
  {
   "cell_type": "code",
   "execution_count": 8,
   "id": "b4a61eaf",
   "metadata": {},
   "outputs": [
    {
     "name": "stdout",
     "output_type": "stream",
     "text": [
      "enter ip address192.010.100.001\n",
      "192.10.100.1\n"
     ]
    }
   ],
   "source": [
    "import re\n",
    "ip=input(\"enter ip address\")\n",
    "pattern= re.compile(r'\\b0+(\\d)')\n",
    "result=pattern.sub(r'\\1',ip)\n",
    "print(result)"
   ]
  },
  {
   "cell_type": "code",
   "execution_count": 9,
   "id": "4fc250dc",
   "metadata": {},
   "outputs": [],
   "source": [
    "#Q14 Write a regular expression in python to match a date string in the form of Month name\n",
    "#followed by day number and year stored in a text file."
   ]
  },
  {
   "cell_type": "code",
   "execution_count": 10,
   "id": "494bd67b",
   "metadata": {},
   "outputs": [
    {
     "name": "stdout",
     "output_type": "stream",
     "text": [
      "Enter context, note date's month should start with a capital letter and date should be in the format Month date(numerical),yearabc January 10, 1995 def\n",
      "January 10, 1995\n"
     ]
    }
   ],
   "source": [
    "import re\n",
    "text=input(\"Enter context, note date's month should start with a capital letter and date should be in the format Month date(numerical),year\")\n",
    "with open('dates.txt', 'w') as file:\n",
    "    file.write(text.strip())\n",
    "with open('dates.txt', 'r') as file:\n",
    "    text = file.read()\n",
    "date_pattern = r'\\b(?:January|February|March|April|May|June|July|August|September|October|November|December)\\b\\s+\\d{1,2},\\s+\\d{4}'\n",
    "date_matches = re.findall(date_pattern, text)\n",
    "for i in date_matches:\n",
    "    print(i)"
   ]
  },
  {
   "cell_type": "code",
   "execution_count": 11,
   "id": "c84b4f44",
   "metadata": {},
   "outputs": [],
   "source": [
    "#Q15 Write a Python program to search some literals strings in a string. "
   ]
  },
  {
   "cell_type": "code",
   "execution_count": 12,
   "id": "a2aae94d",
   "metadata": {},
   "outputs": [
    {
     "name": "stdout",
     "output_type": "stream",
     "text": [
      "Enter the main string: 'The quick brown fox jumps over the lazy dog.'\n",
      "Enter words to search (comma-separated): quick,fox,jumps,o\n",
      "Found words: ['quick', 'fox', 'jumps']\n"
     ]
    }
   ],
   "source": [
    "import re\n",
    "main_text = input(\"Enter the main string: \")\n",
    "tobesearched_words = input(\"Enter words to search (comma-separated): \")\n",
    "tobesearched_text = [word.strip() for word in tobesearched_words.split(',')]\n",
    "pattern = '|'.join(r'\\b{}\\b'.format(re.escape(word)) for word in tobesearched_text)\n",
    "regex = re.compile(pattern)\n",
    "matches = regex.findall(main_text)\n",
    "print(\"Found words:\", matches)"
   ]
  },
  {
   "cell_type": "code",
   "execution_count": 13,
   "id": "37e045d6",
   "metadata": {},
   "outputs": [],
   "source": [
    "#Q16 Write a Python program to search a literals string in a string and also find the location\n",
    "#within the original string where the pattern occurs"
   ]
  },
  {
   "cell_type": "code",
   "execution_count": 14,
   "id": "c276589e",
   "metadata": {},
   "outputs": [
    {
     "name": "stdout",
     "output_type": "stream",
     "text": [
      "Enter the main string: 'The quick brown fox jumps over the lazy dog.'\n",
      "Enter words to search (comma-separated): fox\n",
      "Found words and their locations:\n",
      "Word: fox, Location: (17-19)\n"
     ]
    }
   ],
   "source": [
    "import re\n",
    "main_text = input(\"Enter the main string: \")\n",
    "tobesearched_words = input(\"Enter words to search (comma-separated): \")\n",
    "tobesearched_text = [word.strip() for word in tobesearched_words.split(',')]\n",
    "pattern = '|'.join(r'\\b{}\\b'.format(re.escape(word)) for word in tobesearched_text)\n",
    "regex = re.compile(pattern)\n",
    "matches = [(match.group(0), match.start(), match.end()-1) for match in regex.finditer(main_text)]\n",
    "print(\"Found words and their locations:\")\n",
    "for match, start, end in matches:\n",
    "    print(f\"Word: {match}, Location: ({start}-{end})\")\n"
   ]
  },
  {
   "cell_type": "code",
   "execution_count": 15,
   "id": "567dcb45",
   "metadata": {},
   "outputs": [],
   "source": [
    "#Q17 Write a Python program to find the substrings within a string.\n",
    "#Sample text : 'Python exercises, PHP exercises, C# exercises'\n",
    "#Pattern : 'exercises'."
   ]
  },
  {
   "cell_type": "code",
   "execution_count": 18,
   "id": "241be97c",
   "metadata": {},
   "outputs": [
    {
     "name": "stdout",
     "output_type": "stream",
     "text": [
      "Found substrings: ['exercises', 'exercises', 'exercises']\n"
     ]
    }
   ],
   "source": [
    "import re\n",
    "main_text = 'Python exercises, PHP exercises, C# exercises'\n",
    "pattern = 'exercises'\n",
    "matches = re.findall(pattern, main_text)\n",
    "print(\"Found substrings:\", matches)"
   ]
  },
  {
   "cell_type": "code",
   "execution_count": 21,
   "id": "b816f2ba",
   "metadata": {},
   "outputs": [],
   "source": [
    "#Q18 Write a Python program to find the occurrence and position of the substrings within a\n",
    "#string."
   ]
  },
  {
   "cell_type": "code",
   "execution_count": 20,
   "id": "9a143f19",
   "metadata": {},
   "outputs": [
    {
     "name": "stdout",
     "output_type": "stream",
     "text": [
      "Enter the main text: the the oidjf the sdjfodjf the \n",
      "Enter the pattern to search: the\n",
      "Found word(s): ['the', 'the', 'the', 'the']\n",
      "Count: 4\n",
      "Locations: [0, 4, 14, 27]\n"
     ]
    }
   ],
   "source": [
    "import re\n",
    "main_text = input(\"Enter the main text: \")\n",
    "pattern = input(\"Enter the pattern to search: \")\n",
    "matches = re.finditer(pattern, main_text)\n",
    "count = 0\n",
    "locations = []\n",
    "for match in matches:\n",
    "    count = count+ 1\n",
    "    locations.append(match.start())\n",
    "print(f\"Found word(s): {re.findall(pattern, main_text)}\")\n",
    "print(f\"Count: {count}\")\n",
    "print(f\"Locations: {locations}\")\n"
   ]
  },
  {
   "cell_type": "code",
   "execution_count": 22,
   "id": "888ee828",
   "metadata": {},
   "outputs": [],
   "source": [
    "#Q19 Write a Python program to convert a date of yyyy-mm-dd format to dd-mm-yyyy\n",
    "#format."
   ]
  },
  {
   "cell_type": "code",
   "execution_count": 23,
   "id": "5ba69c46",
   "metadata": {},
   "outputs": [
    {
     "name": "stdout",
     "output_type": "stream",
     "text": [
      "Enter date, format should be : YYYY-MM-DD1995-10-11\n",
      "11-10-1995\n"
     ]
    }
   ],
   "source": [
    "import re \n",
    "date=input('Enter date, format should be : YYYY-MM-DD')\n",
    "pattern = r'(\\d{4})-(\\d{2})-(\\d{2})'\n",
    "new_date = re.sub(pattern, r'\\3-\\2-\\1', date)\n",
    "print(new_date)"
   ]
  },
  {
   "cell_type": "code",
   "execution_count": 24,
   "id": "da34dd94",
   "metadata": {},
   "outputs": [],
   "source": [
    "#Q20 Create a function in python to find all decimal numbers with a precision of 1 or 2 in a\n",
    "#string. The use of the re.compile() method is mandatory."
   ]
  },
  {
   "cell_type": "code",
   "execution_count": 25,
   "id": "6e7d2c38",
   "metadata": {},
   "outputs": [
    {
     "name": "stdout",
     "output_type": "stream",
     "text": [
      "abc 123 ifj 34 difjsod 34324 dfjods 343\n",
      "Found numbers: ['123', '34', '34324', '343']\n",
      "Number positions: [4, 12, 23, 36]\n"
     ]
    }
   ],
   "source": [
    "import re\n",
    "text = input()\n",
    "matches = re.finditer(r'\\d+', text)\n",
    "found_numbers = []\n",
    "number_positions = []\n",
    "for match in matches:\n",
    "    number = match.group()\n",
    "    found_numbers.append(number)\n",
    "    number_positions.append(match.start())\n",
    "print(\"Found numbers:\", found_numbers)\n",
    "print(\"Number positions:\", number_positions)"
   ]
  },
  {
   "cell_type": "code",
   "execution_count": 29,
   "id": "b02e9222",
   "metadata": {},
   "outputs": [],
   "source": [
    "#Q21  Write a Python program to separate and print the numbers and their position of a\n",
    "#given string."
   ]
  },
  {
   "cell_type": "code",
   "execution_count": null,
   "id": "cbda4aea",
   "metadata": {},
   "outputs": [],
   "source": [
    "import re\n",
    "input_text = input(\"Enter text: \")\n",
    "pattern = r'([a-z])([A-Z])'\n",
    "spaced_text = re.sub(pattern, r'\\1 \\2', input_text)\n",
    "print(\"Text with spaces:\", spaced_text)"
   ]
  },
  {
   "cell_type": "code",
   "execution_count": 26,
   "id": "df651095",
   "metadata": {},
   "outputs": [],
   "source": [
    "#Q22 Write a regular expression in python program to extract maximum/largest numeric\n",
    "#value from a string."
   ]
  },
  {
   "cell_type": "code",
   "execution_count": 27,
   "id": "ef2f624a",
   "metadata": {},
   "outputs": [
    {
     "name": "stdout",
     "output_type": "stream",
     "text": [
      "Enter a string containing numeric values: sd 23 435 23 343 23\n",
      "Maximum numeric value: 435.0\n"
     ]
    }
   ],
   "source": [
    "import re\n",
    "string = input(\"Enter a string containing numeric values: \")\n",
    "pattern = r'\\b\\d+\\b'\n",
    "matches = re.findall(pattern, string)\n",
    "numbers = [float(num) for num in matches]\n",
    "max_value = max(numbers)\n",
    "print(\"Maximum numeric value:\", max_value)"
   ]
  },
  {
   "cell_type": "code",
   "execution_count": 28,
   "id": "e7300500",
   "metadata": {},
   "outputs": [],
   "source": [
    "#Q23 Create a function in python to insert spaces between words starting with capital\n",
    "#letters."
   ]
  },
  {
   "cell_type": "code",
   "execution_count": 30,
   "id": "10947e13",
   "metadata": {},
   "outputs": [
    {
     "name": "stdout",
     "output_type": "stream",
     "text": [
      "Enter text: AfjBifjos Cdfdf\n",
      "Text with spaces: Afj Bifjos Cdfdf\n"
     ]
    }
   ],
   "source": [
    "import re\n",
    "input_text = input(\"Enter text: \")\n",
    "pattern = r'([a-z])([A-Z])'\n",
    "spaced_text = re.sub(pattern, r'\\1 \\2', input_text)\n",
    "print(\"Text with spaces:\", spaced_text)"
   ]
  },
  {
   "cell_type": "code",
   "execution_count": 31,
   "id": "d1f90105",
   "metadata": {},
   "outputs": [],
   "source": [
    "#Q24 Python regex to find sequences of one upper case letter followed by lower case letters"
   ]
  },
  {
   "cell_type": "code",
   "execution_count": 32,
   "id": "1c441fb3",
   "metadata": {},
   "outputs": [
    {
     "name": "stdout",
     "output_type": "stream",
     "text": [
      "Enter text: This is a sample Text of Capital and Small lettered words\n",
      "Matches found: ['This', 'Text', 'Capital', 'Small']\n"
     ]
    }
   ],
   "source": [
    "import re\n",
    "text = input(\"Enter text: \")\n",
    "pattern = r'[A-Z][a-z]+'\n",
    "matches = re.findall(pattern, text)\n",
    "print(\"Matches found:\", matches)"
   ]
  },
  {
   "cell_type": "code",
   "execution_count": 1,
   "id": "f2149ffc",
   "metadata": {},
   "outputs": [],
   "source": [
    "#Q25 Write a Python program to remove continuous duplicate words from Sentence using\n",
    "#Regular Expression.\n",
    "#Sample Text: \"Hello hello world world\"\n",
    "#Expected Output: Hello hello world"
   ]
  },
  {
   "cell_type": "code",
   "execution_count": 1,
   "id": "0c123afc",
   "metadata": {},
   "outputs": [
    {
     "name": "stdout",
     "output_type": "stream",
     "text": [
      "Hello hello world world\n",
      "Hello hello world\n"
     ]
    }
   ],
   "source": [
    "import re\n",
    "pattern = pattern = re.compile(r'\\b(\\w+)\\s+\\1\\b')\n",
    "text=input()\n",
    "final=pattern.sub(r'\\1', text)\n",
    "print(final)"
   ]
  },
  {
   "cell_type": "code",
   "execution_count": 2,
   "id": "dc034342",
   "metadata": {},
   "outputs": [],
   "source": [
    "#Q26 Write a python program using RegEx to accept string ending with alphanumeric\n",
    "#character."
   ]
  },
  {
   "cell_type": "code",
   "execution_count": 3,
   "id": "b1178b0e",
   "metadata": {},
   "outputs": [
    {
     "name": "stdout",
     "output_type": "stream",
     "text": [
      "Enter a string: 23\n",
      "The string ends with an alphanumeric character.\n"
     ]
    }
   ],
   "source": [
    "import re\n",
    "string = input(\"Enter a string: \")\n",
    "pattern = r'.*[a-zA-Z0-9]$'\n",
    "if re.match(pattern, string):\n",
    "    print(\"The string ends with an alphanumeric character.\")\n",
    "else:\n",
    "    print(\"The string does not end with an alphanumeric character.\")"
   ]
  },
  {
   "cell_type": "code",
   "execution_count": 4,
   "id": "da98020b",
   "metadata": {},
   "outputs": [],
   "source": [
    "#Q27 Write a python program using RegEx to extract the hashtags"
   ]
  },
  {
   "cell_type": "code",
   "execution_count": 6,
   "id": "5247b471",
   "metadata": {},
   "outputs": [
    {
     "name": "stdout",
     "output_type": "stream",
     "text": [
      "Enter a string with hashtags: \"RT @kapil_kausik: #Doltiwal I mean #xyzabc is \"hurt\" by #Demonetization as the same has rendered USELESS <ed><U+00A0><U+00BD><ed><U+00B1><U+0089> \"acquired funds\" No wo\n",
      "Found hashtags: ['#Doltiwal', '#xyzabc', '#Demonetization']\n"
     ]
    }
   ],
   "source": [
    "import re\n",
    "string = input(\"Enter a string with hashtags: \")\n",
    "pattern = r'#\\w+'\n",
    "matches = re.findall(pattern, string)\n",
    "print(\"Found hashtags:\", matches)"
   ]
  },
  {
   "cell_type": "code",
   "execution_count": 7,
   "id": "b9ca584c",
   "metadata": {},
   "outputs": [],
   "source": [
    "#Q28 Write a python program using RegEx to remove <U+..> like symbols"
   ]
  },
  {
   "cell_type": "code",
   "execution_count": 8,
   "id": "00763e32",
   "metadata": {},
   "outputs": [
    {
     "name": "stdout",
     "output_type": "stream",
     "text": [
      "@Jags123456 Bharat band on 28??<ed><U+00A0><U+00BD><ed><U+00B8><U+0082>Those who are protesting #demonetization are all different party leaders\n",
      "@Jags123456 Bharat band on 28??<ed><ed>Those who are protesting #demonetization are all different party leaders\n"
     ]
    }
   ],
   "source": [
    "import re \n",
    "string=input()\n",
    "pattern = r'<U\\+.*?>'\n",
    "final= re.sub(pattern,'',string)\n",
    "print(final)"
   ]
  },
  {
   "cell_type": "code",
   "execution_count": 9,
   "id": "f3130844",
   "metadata": {},
   "outputs": [],
   "source": [
    "#Q29 Write a python program to extract dates from the text stored in the text file"
   ]
  },
  {
   "cell_type": "code",
   "execution_count": 10,
   "id": "1e29037d",
   "metadata": {},
   "outputs": [
    {
     "name": "stdout",
     "output_type": "stream",
     "text": [
      "Extracted dates: ['12-09-1992', '15-12-1999']\n"
     ]
    }
   ],
   "source": [
    "import re\n",
    "pattern= r'\\b\\d{2}-\\d{2}-\\d{4}\\b'\n",
    "with open('inputtext.txt', 'r') as file:\n",
    "    text = file.read()\n",
    "dates = re.findall(pattern, text)\n",
    "print(\"Extracted dates:\", dates)"
   ]
  },
  {
   "cell_type": "code",
   "execution_count": 11,
   "id": "49b4b70d",
   "metadata": {},
   "outputs": [],
   "source": [
    "#Q30 Create a function in python to remove all words from a string of length between 2 and 4."
   ]
  },
  {
   "cell_type": "code",
   "execution_count": null,
   "id": "070f3c74",
   "metadata": {},
   "outputs": [],
   "source": [
    "import re\n",
    "pattern= re.compile(r'\\b\\w{2,4}\\b')\n",
    "text=input(\"Enter text\")\n",
    "result = pattern.sub('', text)\n",
    "print(result)"
   ]
  }
 ],
 "metadata": {
  "kernelspec": {
   "display_name": "Python 3 (ipykernel)",
   "language": "python",
   "name": "python3"
  },
  "language_info": {
   "codemirror_mode": {
    "name": "ipython",
    "version": 3
   },
   "file_extension": ".py",
   "mimetype": "text/x-python",
   "name": "python",
   "nbconvert_exporter": "python",
   "pygments_lexer": "ipython3",
   "version": "3.11.5"
  }
 },
 "nbformat": 4,
 "nbformat_minor": 5
}
