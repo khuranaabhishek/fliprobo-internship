{
 "cells": [
  {
   "cell_type": "code",
   "execution_count": 1,
   "id": "1c291e5b",
   "metadata": {},
   "outputs": [],
   "source": [
    "#1. Which of the following operators is used to calculate remainder in a division?\n",
    "#A) # B) &\n",
    "#C) % D) $"
   ]
  },
  {
   "cell_type": "code",
   "execution_count": 2,
   "id": "fb8c1318",
   "metadata": {},
   "outputs": [],
   "source": [
    "# Answer C) %"
   ]
  },
  {
   "cell_type": "code",
   "execution_count": 3,
   "id": "0defc856",
   "metadata": {},
   "outputs": [],
   "source": [
    "#2. In python 2//3 is equal to?\n",
    "#A) 0.666 B) 0\n",
    "#C) 1 D) 0.67"
   ]
  },
  {
   "cell_type": "code",
   "execution_count": 4,
   "id": "626d7487",
   "metadata": {},
   "outputs": [],
   "source": [
    "# Answer B) 0"
   ]
  },
  {
   "cell_type": "code",
   "execution_count": 5,
   "id": "578c5185",
   "metadata": {},
   "outputs": [
    {
     "data": {
      "text/plain": [
       "0"
      ]
     },
     "execution_count": 5,
     "metadata": {},
     "output_type": "execute_result"
    }
   ],
   "source": [
    "2//3"
   ]
  },
  {
   "cell_type": "code",
   "execution_count": 6,
   "id": "5500462a",
   "metadata": {},
   "outputs": [],
   "source": [
    "#3. In python, 6<<2 is equal to?\n",
    "#A) 36 B) 10\n",
    "#C) 24 D) 45"
   ]
  },
  {
   "cell_type": "code",
   "execution_count": 7,
   "id": "dda941e7",
   "metadata": {},
   "outputs": [],
   "source": [
    "# Answer C) 24"
   ]
  },
  {
   "cell_type": "code",
   "execution_count": 8,
   "id": "63a51cdf",
   "metadata": {},
   "outputs": [
    {
     "data": {
      "text/plain": [
       "24"
      ]
     },
     "execution_count": 8,
     "metadata": {},
     "output_type": "execute_result"
    }
   ],
   "source": [
    "6<<2"
   ]
  },
  {
   "cell_type": "code",
   "execution_count": 9,
   "id": "1bdb3a13",
   "metadata": {},
   "outputs": [],
   "source": [
    "#4. In python, 6&2 will give which of the following as output?\n",
    "#A) 2 B) True\n",
    "#C) False D) 0"
   ]
  },
  {
   "cell_type": "code",
   "execution_count": 10,
   "id": "4fa0e11f",
   "metadata": {},
   "outputs": [],
   "source": [
    "# Answer A) 2"
   ]
  },
  {
   "cell_type": "code",
   "execution_count": 11,
   "id": "12b8d2aa",
   "metadata": {},
   "outputs": [
    {
     "data": {
      "text/plain": [
       "2"
      ]
     },
     "execution_count": 11,
     "metadata": {},
     "output_type": "execute_result"
    }
   ],
   "source": [
    "6&2"
   ]
  },
  {
   "cell_type": "code",
   "execution_count": 12,
   "id": "d7137243",
   "metadata": {},
   "outputs": [],
   "source": [
    "#5. In python, 6|2 will give which of the following as output?\n",
    "#A) 2 B) 4\n",
    "#C) 0 D) 6"
   ]
  },
  {
   "cell_type": "code",
   "execution_count": 13,
   "id": "6239d25b",
   "metadata": {},
   "outputs": [],
   "source": [
    "# Answer D) 6"
   ]
  },
  {
   "cell_type": "code",
   "execution_count": 14,
   "id": "879501e9",
   "metadata": {},
   "outputs": [
    {
     "data": {
      "text/plain": [
       "6"
      ]
     },
     "execution_count": 14,
     "metadata": {},
     "output_type": "execute_result"
    }
   ],
   "source": [
    "6|2"
   ]
  },
  {
   "cell_type": "code",
   "execution_count": 15,
   "id": "9e62f586",
   "metadata": {},
   "outputs": [],
   "source": [
    "#6. What does the finally keyword denotes in python?\n",
    "#A) It is used to mark the end of the code\n",
    "#B) It encloses the lines of code which will be executed if any error occurs while\n",
    "#executing the lines of code in the try block.\n",
    "#C) the finally block will be executed no matter if the try block raises an error or not.\n",
    "#D) None of the above"
   ]
  },
  {
   "cell_type": "code",
   "execution_count": 16,
   "id": "fed0f1dc",
   "metadata": {},
   "outputs": [],
   "source": [
    "# Answer C"
   ]
  },
  {
   "cell_type": "code",
   "execution_count": 17,
   "id": "6324c7b9",
   "metadata": {},
   "outputs": [],
   "source": [
    "#7. What does raise keyword is used for in python?\n",
    "#A) It is used to raise an exception. B) It is used to define lambda function\n",
    "#C) it's not a keyword in python. D) None of the above"
   ]
  },
  {
   "cell_type": "code",
   "execution_count": 18,
   "id": "db087cd8",
   "metadata": {},
   "outputs": [],
   "source": [
    "# Answer A\n"
   ]
  },
  {
   "cell_type": "code",
   "execution_count": 19,
   "id": "eda52254",
   "metadata": {},
   "outputs": [],
   "source": [
    "#8. Which of the following is a common use case of yield keyword in python?\n",
    "#A) in defining an iterator B) while defining a lambda function\n",
    "#C) in defining a generator D) in for loop"
   ]
  },
  {
   "cell_type": "code",
   "execution_count": 20,
   "id": "6e1b3842",
   "metadata": {},
   "outputs": [],
   "source": [
    "#answer C"
   ]
  },
  {
   "cell_type": "code",
   "execution_count": 21,
   "id": "2ea256dd",
   "metadata": {},
   "outputs": [],
   "source": [
    "#9. Which of the following are the valid variable names?\n",
    "#A) _abc B) 1abc\n",
    "#C) abc2 D) None of the above"
   ]
  },
  {
   "cell_type": "code",
   "execution_count": 22,
   "id": "f4fdc092",
   "metadata": {},
   "outputs": [],
   "source": [
    "# Answer A, C"
   ]
  },
  {
   "cell_type": "code",
   "execution_count": 23,
   "id": "acbef275",
   "metadata": {},
   "outputs": [],
   "source": [
    "_abc=1"
   ]
  },
  {
   "cell_type": "code",
   "execution_count": 24,
   "id": "02b9abd3",
   "metadata": {},
   "outputs": [
    {
     "ename": "SyntaxError",
     "evalue": "invalid decimal literal (334286229.py, line 1)",
     "output_type": "error",
     "traceback": [
      "\u001b[1;36m  Cell \u001b[1;32mIn[24], line 1\u001b[1;36m\u001b[0m\n\u001b[1;33m    1abc=1\u001b[0m\n\u001b[1;37m    ^\u001b[0m\n\u001b[1;31mSyntaxError\u001b[0m\u001b[1;31m:\u001b[0m invalid decimal literal\n"
     ]
    }
   ],
   "source": [
    "1abc=1"
   ]
  },
  {
   "cell_type": "code",
   "execution_count": 25,
   "id": "ad9793ca",
   "metadata": {},
   "outputs": [],
   "source": [
    "abc2=1"
   ]
  },
  {
   "cell_type": "code",
   "execution_count": 26,
   "id": "42e40b03",
   "metadata": {},
   "outputs": [
    {
     "ename": "SyntaxError",
     "evalue": "invalid decimal literal (1320308949.py, line 1)",
     "output_type": "error",
     "traceback": [
      "\u001b[1;36m  Cell \u001b[1;32mIn[26], line 1\u001b[1;36m\u001b[0m\n\u001b[1;33m    print(_abc,1abc,abc2)\u001b[0m\n\u001b[1;37m               ^\u001b[0m\n\u001b[1;31mSyntaxError\u001b[0m\u001b[1;31m:\u001b[0m invalid decimal literal\n"
     ]
    }
   ],
   "source": [
    "print(_abc,1abc,abc2)"
   ]
  },
  {
   "cell_type": "code",
   "execution_count": 27,
   "id": "485407bf",
   "metadata": {},
   "outputs": [
    {
     "name": "stdout",
     "output_type": "stream",
     "text": [
      "1 1\n"
     ]
    }
   ],
   "source": [
    "print(_abc,abc2)"
   ]
  },
  {
   "cell_type": "code",
   "execution_count": 28,
   "id": "0fde8611",
   "metadata": {},
   "outputs": [],
   "source": [
    "#10. Which of the following are the keywords in python?\n",
    "#A) yield B) raise\n",
    "#C) look-in D) all of the above"
   ]
  },
  {
   "cell_type": "code",
   "execution_count": 29,
   "id": "93fca4cd",
   "metadata": {},
   "outputs": [],
   "source": [
    "# Answer A,b"
   ]
  },
  {
   "cell_type": "code",
   "execution_count": 30,
   "id": "5dd63a2e",
   "metadata": {},
   "outputs": [
    {
     "ename": "SyntaxError",
     "evalue": "invalid syntax (4029010436.py, line 1)",
     "output_type": "error",
     "traceback": [
      "\u001b[1;36m  Cell \u001b[1;32mIn[30], line 1\u001b[1;36m\u001b[0m\n\u001b[1;33m    yield raise look-in (#yield and raise are keywords highlighted in green)\u001b[0m\n\u001b[1;37m          ^\u001b[0m\n\u001b[1;31mSyntaxError\u001b[0m\u001b[1;31m:\u001b[0m invalid syntax\n"
     ]
    }
   ],
   "source": [
    "yield raise look-in (#yield and raise are keywords highlighted in green)"
   ]
  },
  {
   "cell_type": "code",
   "execution_count": 31,
   "id": "fe7c6a5c",
   "metadata": {},
   "outputs": [],
   "source": [
    "#11. Write a python program to find the factorial of a number."
   ]
  },
  {
   "cell_type": "code",
   "execution_count": 39,
   "id": "a33b85ac",
   "metadata": {},
   "outputs": [
    {
     "name": "stdout",
     "output_type": "stream",
     "text": [
      "enter number whose factorial needs to be calculated 10\n",
      "the factorial is  3628800\n"
     ]
    }
   ],
   "source": [
    "#Answer : \n",
    "num = int(input(\"enter number whose factorial needs to be calculated \"))\n",
    "fact=1\n",
    "for i in range (1, num+1):\n",
    " fact = fact*i\n",
    "print(\"the factorial is \", fact)"
   ]
  },
  {
   "cell_type": "code",
   "execution_count": 40,
   "id": "a84e1a36",
   "metadata": {},
   "outputs": [],
   "source": [
    "#12. Write a python program to find whether a number is prime or composite. "
   ]
  },
  {
   "cell_type": "code",
   "execution_count": 44,
   "id": "590e77f9",
   "metadata": {},
   "outputs": [
    {
     "name": "stdout",
     "output_type": "stream",
     "text": [
      "enter number to check for prime10\n",
      "10 is a composite number.\n"
     ]
    }
   ],
   "source": [
    "#Answer : \n",
    "number = int(input(\"enter number to check for prime\"))\n",
    "if number > 1:\n",
    "    for i in range(2, number):\n",
    "        if number % i == 0:\n",
    "            print(f\"{number} is a composite number.\")\n",
    "            break\n",
    "    else:\n",
    "        print(f\"{number} is a prime number.\")\n",
    "else:\n",
    "    print(f\"{number} is neither prime nor composite.\")"
   ]
  },
  {
   "cell_type": "code",
   "execution_count": 45,
   "id": "a56757ac",
   "metadata": {},
   "outputs": [],
   "source": [
    "#13. Write a python program to check whether a given string is palindrome or not."
   ]
  },
  {
   "cell_type": "code",
   "execution_count": 46,
   "id": "5c7ec287",
   "metadata": {},
   "outputs": [
    {
     "name": "stdout",
     "output_type": "stream",
     "text": [
      "enter text (lowercase only)radar\n",
      "radar is a palindrome.\n"
     ]
    }
   ],
   "source": [
    "#Answer : \n",
    "text=input(\"enter text (lowercase only)\")\n",
    "if text == text[::-1]:\n",
    "    print(f\"{text} is a palindrome.\")\n",
    "else:\n",
    "    print(f\"{text} is not a palindrome.\")\n"
   ]
  },
  {
   "cell_type": "code",
   "execution_count": 47,
   "id": "5db58b29",
   "metadata": {},
   "outputs": [],
   "source": [
    "#14. Write a Python program to get the third side of right-angled triangle from two given sides."
   ]
  },
  {
   "cell_type": "code",
   "execution_count": 48,
   "id": "6537a2ad",
   "metadata": {},
   "outputs": [
    {
     "name": "stdout",
     "output_type": "stream",
     "text": [
      "enter first side of right triangle5\n",
      "enter second side of right triangle6\n",
      "the third side is  7.810249675906654\n"
     ]
    }
   ],
   "source": [
    "#Answer : \n",
    "import math\n",
    "side1=int(input(\"enter first side of right triangle\"))\n",
    "side2=int(input(\"enter second side of right triangle\"))\n",
    "h = math.sqrt(side1**2 + side2**2)\n",
    "print(\"the third side is \", h)"
   ]
  },
  {
   "cell_type": "code",
   "execution_count": 49,
   "id": "45d612bd",
   "metadata": {},
   "outputs": [],
   "source": [
    "#15. Write a python program to print the frequency of each of the characters present in a given string."
   ]
  },
  {
   "cell_type": "code",
   "execution_count": 50,
   "id": "1ee66ec5",
   "metadata": {},
   "outputs": [
    {
     "name": "stdout",
     "output_type": "stream",
     "text": [
      "Enter stringhello world\n",
      "Character frequencies:\n",
      "h: 1\n",
      "e: 1\n",
      "l: 3\n",
      "o: 2\n",
      " : 1\n",
      "w: 1\n",
      "r: 1\n",
      "d: 1\n"
     ]
    }
   ],
   "source": [
    "#Answer : \n",
    "input_string = input(\"Enter string\")\n",
    "char_frequency = {}\n",
    "for char in input_string:\n",
    "    if char in char_frequency:\n",
    "        char_frequency[char] += 1\n",
    "    else:\n",
    "        char_frequency[char] = 1\n",
    "print(\"Character frequencies:\")\n",
    "for char, freq in char_frequency.items():\n",
    "    print(f\"{char}: {freq}\")"
   ]
  },
  {
   "cell_type": "code",
   "execution_count": null,
   "id": "770b7bce",
   "metadata": {},
   "outputs": [],
   "source": []
  }
 ],
 "metadata": {
  "kernelspec": {
   "display_name": "Python 3 (ipykernel)",
   "language": "python",
   "name": "python3"
  },
  "language_info": {
   "codemirror_mode": {
    "name": "ipython",
    "version": 3
   },
   "file_extension": ".py",
   "mimetype": "text/x-python",
   "name": "python",
   "nbconvert_exporter": "python",
   "pygments_lexer": "ipython3",
   "version": "3.11.5"
  }
 },
 "nbformat": 4,
 "nbformat_minor": 5
}
